{
 "cells": [
  {
   "cell_type": "markdown",
   "metadata": {},
   "source": [
    "Let $P_i (\\  0 \\leq i \\le n )$ represent Pile sequence with lengh n.\n",
    "\n",
    "Let $DP_{ij}$ represent the maxinum value Alex can get from the $P_i$ to $P_j$.\n",
    "\n",
    "Then, we can derive $DP_{ij}$ as:\n",
    "$$\n",
    "DP_{ij}=\\begin{cases}\n",
    "1,&x>0 \\\\ 0,&x=0 \\cr -1,&x<0\n",
    "\\end{cases}\n",
    "$$\n"
   ]
  },
  {
   "cell_type": "code",
   "execution_count": null,
   "metadata": {},
   "outputs": [],
   "source": []
  }
 ],
 "metadata": {
  "kernelspec": {
   "display_name": "Python 3.8.1 64-bit ('leetcode': venv)",
   "language": "python",
   "name": "python38164bitleetcodevenvce37e0f6a81f4e7ba30e087dba06b9f2"
  },
  "language_info": {
   "codemirror_mode": {
    "name": "ipython",
    "version": 3
   },
   "file_extension": ".py",
   "mimetype": "text/x-python",
   "name": "python",
   "nbconvert_exporter": "python",
   "pygments_lexer": "ipython3",
   "version": "3.8.1"
  }
 },
 "nbformat": 4,
 "nbformat_minor": 2
}
